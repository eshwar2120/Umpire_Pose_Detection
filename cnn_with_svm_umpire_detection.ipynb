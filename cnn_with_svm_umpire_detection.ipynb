{
  "nbformat": 4,
  "nbformat_minor": 0,
  "metadata": {
    "colab": {
      "name": "cnn with svm umpire detection.ipynb",
      "provenance": [],
      "collapsed_sections": []
    },
    "kernelspec": {
      "name": "python3",
      "display_name": "Python 3"
    },
    "language_info": {
      "name": "python"
    },
    "accelerator": "GPU"
  },
  "cells": [
    {
      "cell_type": "code",
      "execution_count": null,
      "metadata": {
        "colab": {
          "base_uri": "https://localhost:8080/"
        },
        "id": "I5p0nkuiZJ1k",
        "outputId": "843263d8-b4d9-46af-f74e-ec8f03ca6406"
      },
      "outputs": [
        {
          "output_type": "stream",
          "name": "stdout",
          "text": [
            "Mounted at /content/drive\n"
          ]
        }
      ],
      "source": [
        "from google.colab import drive\n",
        "drive.mount('/content/drive')\n",
        "DATA_PATH = \"/content/drive/My Drive/\"\n"
      ]
    },
    {
      "cell_type": "code",
      "source": [
        "import tensorflow as tf\n",
        "from tensorflow.keras.preprocessing.image import ImageDataGenerator"
      ],
      "metadata": {
        "id": "5OriEwufZinY"
      },
      "execution_count": null,
      "outputs": []
    },
    {
      "cell_type": "code",
      "source": [
        "train_datagen = ImageDataGenerator(rescale = 1./255,\n",
        "                                   shear_range = 0.2,\n",
        "                                   zoom_range = 0.2,\n",
        "                                   horizontal_flip = True)"
      ],
      "metadata": {
        "id": "KaqwgSpjZoMr"
      },
      "execution_count": null,
      "outputs": []
    },
    {
      "cell_type": "code",
      "source": [
        "training_set = train_datagen.flow_from_directory('/content/drive/My Drive/Inception_test_train_split',\n",
        "                                                 target_size = (224, 224),\n",
        "                                                 batch_size = 32,\n",
        "                                                 class_mode = 'categorical')\n",
        "\n",
        "test_datagen = ImageDataGenerator(rescale = 1./255)\n",
        "test_set = test_datagen.flow_from_directory('/content/drive/My Drive/test',\n",
        "                                            target_size = (224, 224),\n",
        "                                            batch_size = 32,\n",
        "                                            class_mode = 'categorical')"
      ],
      "metadata": {
        "colab": {
          "base_uri": "https://localhost:8080/"
        },
        "id": "M64NSMM5ahw3",
        "outputId": "8b6ae39d-47ca-419a-c1be-a836bee879f2"
      },
      "execution_count": null,
      "outputs": [
        {
          "output_type": "stream",
          "name": "stdout",
          "text": [
            "Found 312 images belonging to 5 classes.\n",
            "Found 77 images belonging to 5 classes.\n"
          ]
        }
      ]
    },
    {
      "cell_type": "code",
      "source": [
        "from tensorflow.keras.layers import Conv2D\n",
        "from tensorflow.keras.layers import Dense"
      ],
      "metadata": {
        "id": "dXBX2f13cCdI"
      },
      "execution_count": null,
      "outputs": []
    },
    {
      "cell_type": "code",
      "source": [
        "from tensorflow.keras.regularizers import l2\n"
      ],
      "metadata": {
        "id": "RnFA5-_6cEWk"
      },
      "execution_count": null,
      "outputs": []
    },
    {
      "cell_type": "code",
      "source": [
        "# Part 2 - Building the CNN\n",
        "# Initialising the CNN\n",
        "cnn = tf.keras.models.Sequential()\n",
        "\n",
        "# Step 1 - Convolution\n",
        "cnn.add(tf.keras.layers.Conv2D(filters=32,padding=\"same\",kernel_size=3, activation='relu', strides=2, input_shape=[224, 224, 3]))\n",
        "\n",
        "# Step 2 - Pooling\n",
        "cnn.add(tf.keras.layers.MaxPool2D(pool_size=2, strides=2))\n",
        "\n",
        "# Adding a second convolutional layer\n",
        "cnn.add(tf.keras.layers.Conv2D(filters=32,padding='same',kernel_size=3, activation='relu'))\n",
        "cnn.add(tf.keras.layers.MaxPool2D(pool_size=2, strides=2))\n",
        "\n",
        "# Step 3 - Flattening\n",
        "cnn.add(tf.keras.layers.Flatten())\n",
        "\n",
        "# Step 4 - Full Connection\n",
        "cnn.add(tf.keras.layers.Dense(units=128, activation='relu'))\n",
        "\n",
        "# Step 5 - Output Layer\n",
        "#cnn.add(tf.keras.layers.Dense(units=1, activation='sigmoid'))\n",
        "cnn.add(Dense(5, kernel_regularizer=tf.keras.regularizers.l2(0.01),activation\n",
        "             ='softmax'))\n",
        "cnn.compile(optimizer = 'adam', loss = 'squared_hinge', metrics = ['accuracy'])"
      ],
      "metadata": {
        "id": "SpnB3uq7cMte"
      },
      "execution_count": null,
      "outputs": []
    },
    {
      "cell_type": "code",
      "source": [
        "cnn.summary()"
      ],
      "metadata": {
        "colab": {
          "base_uri": "https://localhost:8080/"
        },
        "id": "KzH1gavicqmf",
        "outputId": "5b9e9260-92ea-4630-f6f4-4428edc2deec"
      },
      "execution_count": null,
      "outputs": [
        {
          "output_type": "stream",
          "name": "stdout",
          "text": [
            "Model: \"sequential\"\n",
            "_________________________________________________________________\n",
            " Layer (type)                Output Shape              Param #   \n",
            "=================================================================\n",
            " conv2d (Conv2D)             (None, 112, 112, 32)      896       \n",
            "                                                                 \n",
            " max_pooling2d (MaxPooling2D  (None, 56, 56, 32)       0         \n",
            " )                                                               \n",
            "                                                                 \n",
            " conv2d_1 (Conv2D)           (None, 56, 56, 32)        9248      \n",
            "                                                                 \n",
            " max_pooling2d_1 (MaxPooling  (None, 28, 28, 32)       0         \n",
            " 2D)                                                             \n",
            "                                                                 \n",
            " flatten (Flatten)           (None, 25088)             0         \n",
            "                                                                 \n",
            " dense (Dense)               (None, 128)               3211392   \n",
            "                                                                 \n",
            " dense_1 (Dense)             (None, 5)                 645       \n",
            "                                                                 \n",
            "=================================================================\n",
            "Total params: 3,222,181\n",
            "Trainable params: 3,222,181\n",
            "Non-trainable params: 0\n",
            "_________________________________________________________________\n"
          ]
        }
      ]
    },
    {
      "cell_type": "code",
      "source": [
        "# Training the CNN on the Training set and evaluating it on the Test set\n",
        "r=cnn.fit(x = training_set, validation_data = test_set, epochs = 20)"
      ],
      "metadata": {
        "colab": {
          "base_uri": "https://localhost:8080/"
        },
        "id": "zqMUCGCCcrK_",
        "outputId": "9fa9dcfc-fcab-497b-fdef-1bca1f14bbac"
      },
      "execution_count": null,
      "outputs": [
        {
          "output_type": "stream",
          "name": "stdout",
          "text": [
            "Epoch 1/20\n",
            "10/10 [==============================] - 5s 559ms/step - loss: 0.9895 - accuracy: 0.8077 - val_loss: 1.1240 - val_accuracy: 0.6234\n",
            "Epoch 2/20\n",
            "10/10 [==============================] - 5s 536ms/step - loss: 0.9990 - accuracy: 0.7917 - val_loss: 1.1166 - val_accuracy: 0.6104\n",
            "Epoch 3/20\n",
            "10/10 [==============================] - 5s 531ms/step - loss: 0.9835 - accuracy: 0.8013 - val_loss: 1.1127 - val_accuracy: 0.6494\n",
            "Epoch 4/20\n",
            "10/10 [==============================] - 5s 536ms/step - loss: 0.9733 - accuracy: 0.8301 - val_loss: 1.1121 - val_accuracy: 0.5974\n",
            "Epoch 5/20\n",
            "10/10 [==============================] - 5s 543ms/step - loss: 0.9633 - accuracy: 0.8269 - val_loss: 1.1058 - val_accuracy: 0.6234\n",
            "Epoch 6/20\n",
            "10/10 [==============================] - 5s 536ms/step - loss: 0.9507 - accuracy: 0.8494 - val_loss: 1.1091 - val_accuracy: 0.6104\n",
            "Epoch 7/20\n",
            "10/10 [==============================] - 5s 534ms/step - loss: 0.9465 - accuracy: 0.8494 - val_loss: 1.1051 - val_accuracy: 0.6623\n",
            "Epoch 8/20\n",
            "10/10 [==============================] - 5s 544ms/step - loss: 0.9641 - accuracy: 0.8429 - val_loss: 1.0989 - val_accuracy: 0.6494\n",
            "Epoch 9/20\n",
            "10/10 [==============================] - 6s 561ms/step - loss: 0.9449 - accuracy: 0.8622 - val_loss: 1.1016 - val_accuracy: 0.6494\n",
            "Epoch 10/20\n",
            "10/10 [==============================] - 6s 557ms/step - loss: 0.9333 - accuracy: 0.8814 - val_loss: 1.0939 - val_accuracy: 0.6494\n",
            "Epoch 11/20\n",
            "10/10 [==============================] - 5s 545ms/step - loss: 0.9460 - accuracy: 0.8429 - val_loss: 1.0690 - val_accuracy: 0.7013\n",
            "Epoch 12/20\n",
            "10/10 [==============================] - 5s 522ms/step - loss: 0.9084 - accuracy: 0.9006 - val_loss: 1.0934 - val_accuracy: 0.6364\n",
            "Epoch 13/20\n",
            "10/10 [==============================] - 5s 535ms/step - loss: 0.9133 - accuracy: 0.8974 - val_loss: 1.0904 - val_accuracy: 0.6494\n",
            "Epoch 14/20\n",
            "10/10 [==============================] - 5s 541ms/step - loss: 0.9003 - accuracy: 0.9135 - val_loss: 1.0660 - val_accuracy: 0.6753\n",
            "Epoch 15/20\n",
            "10/10 [==============================] - 5s 531ms/step - loss: 0.9157 - accuracy: 0.8942 - val_loss: 1.0880 - val_accuracy: 0.6623\n",
            "Epoch 16/20\n",
            "10/10 [==============================] - 5s 535ms/step - loss: 0.9023 - accuracy: 0.8974 - val_loss: 1.1097 - val_accuracy: 0.5974\n",
            "Epoch 17/20\n",
            "10/10 [==============================] - 5s 535ms/step - loss: 0.8935 - accuracy: 0.9135 - val_loss: 1.0722 - val_accuracy: 0.6753\n",
            "Epoch 18/20\n",
            "10/10 [==============================] - 5s 537ms/step - loss: 0.8947 - accuracy: 0.9135 - val_loss: 1.0733 - val_accuracy: 0.6753\n",
            "Epoch 19/20\n",
            "10/10 [==============================] - 5s 544ms/step - loss: 0.8834 - accuracy: 0.9359 - val_loss: 1.0874 - val_accuracy: 0.6623\n",
            "Epoch 20/20\n",
            "10/10 [==============================] - 5s 543ms/step - loss: 0.8842 - accuracy: 0.9359 - val_loss: 1.0934 - val_accuracy: 0.6364\n"
          ]
        }
      ]
    },
    {
      "cell_type": "code",
      "source": [
        "\n",
        "from tensorflow.keras.models import load_model\n",
        "\n",
        "cnn.save('/content/drive/My Drive/model_rcat_dog.h5')"
      ],
      "metadata": {
        "id": "P1wcT8EJlUTa"
      },
      "execution_count": null,
      "outputs": []
    },
    {
      "cell_type": "code",
      "source": [
        ""
      ],
      "metadata": {
        "id": "T_25eaypKxVn"
      },
      "execution_count": null,
      "outputs": []
    },
    {
      "cell_type": "code",
      "source": [
        "from tensorflow.keras.models import load_model\n",
        " \n",
        "# load model\n",
        "model = load_model('/content/drive/My Drive/model_rcat_dog.h5')"
      ],
      "metadata": {
        "id": "gRmxhN8alYzj"
      },
      "execution_count": null,
      "outputs": []
    },
    {
      "cell_type": "code",
      "source": [
        "import numpy as np\n",
        "from tensorflow.keras.preprocessing import image\n",
        "test_image = image.load_img('/content/drive/My Drive/six1.jpg', target_size = (224,224))\n",
        "test_image = image.img_to_array(test_image)\n",
        "test_image=test_image/255\n",
        "test_image = np.expand_dims(test_image, axis = 0)\n",
        "result = cnn.predict(test_image)"
      ],
      "metadata": {
        "id": "06MIeVR2laHs"
      },
      "execution_count": null,
      "outputs": []
    },
    {
      "cell_type": "code",
      "source": [
        "result"
      ],
      "metadata": {
        "colab": {
          "base_uri": "https://localhost:8080/"
        },
        "id": "5SM9rg2Al1_P",
        "outputId": "bb29e48f-9173-4576-89f8-dc59899993f8"
      },
      "execution_count": null,
      "outputs": [
        {
          "output_type": "execute_result",
          "data": {
            "text/plain": [
              "array([[5.5557307e-06, 4.8845409e-06, 5.5472469e-03, 9.9380106e-01,\n",
              "        6.4125122e-04]], dtype=float32)"
            ]
          },
          "metadata": {},
          "execution_count": 21
        }
      ]
    },
    {
      "cell_type": "code",
      "source": [
        "x = np.argmax(result[0])\n",
        "res = [\"noaction\",\"noball\",\"out\",\"six\",\"wide\"]\n",
        "print(res[x])"
      ],
      "metadata": {
        "colab": {
          "base_uri": "https://localhost:8080/"
        },
        "id": "6LFmrJ96p2wW",
        "outputId": "d6fd46ee-e797-4ca6-aa2d-826367f8ffcf"
      },
      "execution_count": null,
      "outputs": [
        {
          "output_type": "stream",
          "name": "stdout",
          "text": [
            "six\n"
          ]
        }
      ]
    },
    {
      "cell_type": "markdown",
      "source": [
        "# New Section"
      ],
      "metadata": {
        "id": "3QiXKTAUsYsk"
      }
    },
    {
      "cell_type": "code",
      "source": [
        "from google.colab import drive\n",
        "drive.mount('/content/drive')"
      ],
      "metadata": {
        "id": "uA9P7rbssfqM"
      },
      "execution_count": null,
      "outputs": []
    }
  ]
}